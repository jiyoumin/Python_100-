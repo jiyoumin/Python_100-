{
 "cells": [
  {
   "cell_type": "markdown",
   "metadata": {},
   "source": [
    "## for_list_format"
   ]
  },
  {
   "cell_type": "code",
   "execution_count": 1,
   "metadata": {},
   "outputs": [
    {
     "name": "stdout",
     "output_type": "stream",
     "text": [
      "[1, 2, 3, 4, 5]\n"
     ]
    }
   ],
   "source": [
    "num = [1,2,3,4,5]\n",
    "print(num)"
   ]
  },
  {
   "cell_type": "code",
   "execution_count": 4,
   "metadata": {},
   "outputs": [
    {
     "data": {
      "text/plain": [
       "list"
      ]
     },
     "execution_count": 4,
     "metadata": {},
     "output_type": "execute_result"
    }
   ],
   "source": [
    "type(num)"
   ]
  },
  {
   "cell_type": "code",
   "execution_count": 10,
   "metadata": {},
   "outputs": [
    {
     "name": "stdout",
     "output_type": "stream",
     "text": [
      "1 번/2 번/3 번/4 번/5 번/"
     ]
    }
   ],
   "source": [
    "for i in num :\n",
    "    print(i, '번',end='/')"
   ]
  },
  {
   "cell_type": "code",
   "execution_count": 14,
   "metadata": {},
   "outputs": [
    {
     "name": "stdout",
     "output_type": "stream",
     "text": [
      "1번 2번 3번 4번 5번 "
     ]
    }
   ],
   "source": [
    "for i in num :\n",
    "    print('%d번'%i,end=' ')"
   ]
  },
  {
   "cell_type": "code",
   "execution_count": 17,
   "metadata": {},
   "outputs": [
    {
     "name": "stdout",
     "output_type": "stream",
     "text": [
      "i는 0이다\n"
     ]
    }
   ],
   "source": [
    "i=0\n",
    "if i==0 :\n",
    "    print('i는 0이다')\n",
    "else:    \n",
    "    print('i는 0이 아니다')"
   ]
  },
  {
   "cell_type": "code",
   "execution_count": 21,
   "metadata": {},
   "outputs": [
    {
     "name": "stdout",
     "output_type": "stream",
     "text": [
      "10 는 짝수이다\n"
     ]
    }
   ],
   "source": [
    "i=10\n",
    "if i%2==0 :\n",
    "    print(i,'는 짝수이다')\n",
    "else:    \n",
    "    print(i,'i는 홀수이다')\n",
    "    "
   ]
  },
  {
   "cell_type": "code",
   "execution_count": 23,
   "metadata": {},
   "outputs": [
    {
     "name": "stdout",
     "output_type": "stream",
     "text": [
      "숫자입력>>>2\n",
      "2 는 짝수이다\n"
     ]
    }
   ],
   "source": [
    "i= int(input('숫자입력>>>'))\n",
    "if i%2==0 :\n",
    "    print(i,'는 짝수이다')\n",
    "else:    \n",
    "    print(i,'i는 홀수이다')"
   ]
  },
  {
   "cell_type": "code",
   "execution_count": 27,
   "metadata": {},
   "outputs": [
    {
     "name": "stdout",
     "output_type": "stream",
     "text": [
      "국 영 수 정보 "
     ]
    }
   ],
   "source": [
    "sub=['국','영','수','정보']\n",
    "for i in range(len(sub)):\n",
    "    print(sub[i], end=' ')"
   ]
  },
  {
   "cell_type": "code",
   "execution_count": 29,
   "metadata": {},
   "outputs": [
    {
     "name": "stdout",
     "output_type": "stream",
     "text": [
      "국 영 수 정보 "
     ]
    }
   ],
   "source": [
    "sub=['국','영','수','정보']\n",
    "for i,s in enumerate(sub):\n",
    "    print(sub[i], end=' ')\n",
    "    "
   ]
  },
  {
   "cell_type": "code",
   "execution_count": 31,
   "metadata": {},
   "outputs": [
    {
     "name": "stdout",
     "output_type": "stream",
     "text": [
      "1 교시 국 해당없음\n",
      "2 교시 영 해당없음\n",
      "3 교시 수 해당없음\n",
      "4 교시 정보 합격\n"
     ]
    }
   ],
   "source": [
    "sub=['국','영','수','정보']\n",
    "for i,s in enumerate(sub):\n",
    "    if sub[i]=='정보' :\n",
    "        print(i+1,'교시',sub[i], '합격')\n",
    "    else:\n",
    "        print(i+1,'교시',sub[i],'해당없음')"
   ]
  },
  {
   "cell_type": "code",
   "execution_count": 33,
   "metadata": {},
   "outputs": [
    {
     "name": "stdout",
     "output_type": "stream",
     "text": [
      "파이썬 나도 할 수 있어\n",
      "파이썬\n",
      "파이썬 나도 할 수 있어\n",
      "파이썬\n",
      "파이썬 나도 할 수 있어\n",
      "파이썬\n",
      "파이썬 나도 할 수 있어\n",
      "파이썬\n",
      "파이썬 나도 할 수 있어\n",
      "파이썬\n"
     ]
    }
   ],
   "source": [
    "for i in range(1, 11):\n",
    "    if i%2==0:\n",
    "        print('파이썬')\n",
    "    else:\n",
    "        print('파이썬 나도 할 수 있어')"
   ]
  },
  {
   "cell_type": "markdown",
   "metadata": {},
   "source": [
    "## List"
   ]
  },
  {
   "cell_type": "code",
   "execution_count": 34,
   "metadata": {},
   "outputs": [
    {
     "data": {
      "text/plain": [
       "('      인천광역시 중구 참외전로 6번지 3층 창의관', str, 30)"
      ]
     },
     "execution_count": 34,
     "metadata": {},
     "output_type": "execute_result"
    }
   ],
   "source": [
    "juso = '      인천광역시 중구 참외전로 6번지 3층 창의관    '\n",
    "juso, type(juso),len(juso)"
   ]
  },
  {
   "cell_type": "code",
   "execution_count": 35,
   "metadata": {},
   "outputs": [],
   "source": [
    "juso=juso.strip()"
   ]
  },
  {
   "cell_type": "code",
   "execution_count": 37,
   "metadata": {},
   "outputs": [
    {
     "data": {
      "text/plain": [
       "('인천광역시 중구 참외전로 6번지 3층 창의관', 24)"
      ]
     },
     "execution_count": 37,
     "metadata": {},
     "output_type": "execute_result"
    }
   ],
   "source": [
    "juso, len(juso)"
   ]
  },
  {
   "cell_type": "code",
   "execution_count": 39,
   "metadata": {},
   "outputs": [],
   "source": [
    "addr=juso.split()"
   ]
  },
  {
   "cell_type": "code",
   "execution_count": 41,
   "metadata": {},
   "outputs": [
    {
     "data": {
      "text/plain": [
       "(['인천광역시', '중구', '참외전로', '6번지', '3층', '창의관'], 6, list)"
      ]
     },
     "execution_count": 41,
     "metadata": {},
     "output_type": "execute_result"
    }
   ],
   "source": [
    "addr,len(addr), type(addr)"
   ]
  },
  {
   "cell_type": "code",
   "execution_count": 42,
   "metadata": {},
   "outputs": [
    {
     "data": {
      "text/plain": [
       "(['인천광역시', '중구'], ['6번지', '3층', '창의관'])"
      ]
     },
     "execution_count": 42,
     "metadata": {},
     "output_type": "execute_result"
    }
   ],
   "source": [
    "addr[:2], addr[3:]"
   ]
  },
  {
   "cell_type": "code",
   "execution_count": 43,
   "metadata": {},
   "outputs": [
    {
     "data": {
      "text/plain": [
       "True"
      ]
     },
     "execution_count": 43,
     "metadata": {},
     "output_type": "execute_result"
    }
   ],
   "source": [
    "juso.startswith('인천')"
   ]
  },
  {
   "cell_type": "code",
   "execution_count": 45,
   "metadata": {},
   "outputs": [
    {
     "data": {
      "text/plain": [
       "False"
      ]
     },
     "execution_count": 45,
     "metadata": {},
     "output_type": "execute_result"
    }
   ],
   "source": [
    "juso.endswith('동')"
   ]
  },
  {
   "cell_type": "markdown",
   "metadata": {},
   "source": [
    "## format"
   ]
  },
  {
   "cell_type": "code",
   "execution_count": 49,
   "metadata": {},
   "outputs": [
    {
     "name": "stdout",
     "output_type": "stream",
     "text": [
      "A is 사과, 오렌지\n"
     ]
    }
   ],
   "source": [
    "s= 'A is {}, {}'\n",
    "pr = s.format('사과','오렌지')\n",
    "print(pr)"
   ]
  },
  {
   "cell_type": "code",
   "execution_count": 51,
   "metadata": {},
   "outputs": [
    {
     "name": "stdout",
     "output_type": "stream",
     "text": [
      "학교:인천정보산업고등학교, 학번: 30118,이름: 지유민\n"
     ]
    }
   ],
   "source": [
    "info_1= '학교:{}, 학번: {},이름: {}'\n",
    "pr = info_1.format('인천정보산업고등학교',30118,'지유민')\n",
    "print(pr)"
   ]
  },
  {
   "cell_type": "code",
   "execution_count": 54,
   "metadata": {},
   "outputs": [
    {
     "name": "stdout",
     "output_type": "stream",
     "text": [
      "학교: 인천정보, 학번: 30118,성적: 90.08\n"
     ]
    }
   ],
   "source": [
    "info_2= '학교: %s, 학번: %d,성적: %2.2f'\n",
    "pr = info_2%('인천정보',30118,90.08)\n",
    "print(pr)"
   ]
  },
  {
   "cell_type": "code",
   "execution_count": 58,
   "metadata": {},
   "outputs": [
    {
     "name": "stdout",
     "output_type": "stream",
     "text": [
      "햄버거 2 개 가격은 8.00 달라\n"
     ]
    }
   ],
   "source": [
    "a='%s %d 개 가격은 %.2f 달라'\n",
    "b= a%('햄버거',2,8.0)\n",
    "print(b)"
   ]
  },
  {
   "cell_type": "markdown",
   "metadata": {},
   "source": [
    "###  1.30부터50까지 중에서 홀수만 출력"
   ]
  },
  {
   "cell_type": "code",
   "execution_count": 85,
   "metadata": {},
   "outputs": [
    {
     "name": "stdout",
     "output_type": "stream",
     "text": [
      "짝수/31\n",
      "짝수/33\n",
      "짝수/35\n",
      "짝수/37\n",
      "짝수/39\n",
      "짝수/41\n",
      "짝수/43\n",
      "짝수/45\n",
      "짝수/47\n",
      "짝수/49\n",
      "짝수/"
     ]
    }
   ],
   "source": [
    "for i in range(30, 51):\n",
    "    if i%2==0:\n",
    "        print('짝수',end='/')\n",
    "    else:\n",
    "        sum+=i\n",
    "        print(i)"
   ]
  },
  {
   "cell_type": "markdown",
   "metadata": {},
   "source": [
    "###  2.아이디(문자)를 입력받아 동일하면\n",
    "\n",
    "```\n",
    "안녕하세요 회원님\n",
    "아니면 회원가입하세요.\n",
    "```"
   ]
  },
  {
   "cell_type": "code",
   "execution_count": 92,
   "metadata": {},
   "outputs": [
    {
     "name": "stdout",
     "output_type": "stream",
     "text": [
      "아이디입력>>>ads\n",
      "안녕하세요 회원님\n"
     ]
    }
   ],
   "source": [
    "a= input('아이디입력>>>')\n",
    "if a=='ads':\n",
    "    print('안녕하세요 회원님')\n",
    "else:\n",
    "    print('회원가입하세요')"
   ]
  },
  {
   "cell_type": "markdown",
   "metadata": {},
   "source": [
    "###  3.입력예)인천정보산업고등학교/30105/김장민 \n",
    "\n",
    "```\n",
    "학교:인천정보산업고등학교\n",
    "학번:30105\n",
    "이름:김장민\n",
    "```"
   ]
  },
  {
   "cell_type": "code",
   "execution_count": 102,
   "metadata": {},
   "outputs": [
    {
     "name": "stdout",
     "output_type": "stream",
     "text": [
      "내용 입력>>인천정보산업고등학교/30105/김장민\n"
     ]
    }
   ],
   "source": [
    "stu=list(map(str, input('내용 입력>>').split('/')))"
   ]
  },
  {
   "cell_type": "code",
   "execution_count": 99,
   "metadata": {},
   "outputs": [
    {
     "data": {
      "text/plain": [
       "['인천정보산업고등학교', '30105', '김장민']"
      ]
     },
     "execution_count": 99,
     "metadata": {},
     "output_type": "execute_result"
    }
   ],
   "source": [
    "stu"
   ]
  },
  {
   "cell_type": "code",
   "execution_count": 101,
   "metadata": {},
   "outputs": [
    {
     "name": "stdout",
     "output_type": "stream",
     "text": [
      "학교: 인천정보산업고등학교\n",
      "학번: 30105\n",
      "이름: 김장민\n"
     ]
    }
   ],
   "source": [
    "print('학교:',stu[0])\n",
    "print('학번:',stu[1])\n",
    "print('이름:',stu[2])"
   ]
  },
  {
   "cell_type": "markdown",
   "metadata": {},
   "source": [
    "###  4.숫자데이터5개를 입력받아\n",
    "\n",
    "```\n",
    "합계\n",
    "평균\n",
    "```"
   ]
  },
  {
   "cell_type": "code",
   "execution_count": 2,
   "metadata": {},
   "outputs": [
    {
     "name": "stdout",
     "output_type": "stream",
     "text": [
      "내용 입력>>4, 5, 7, 11, 3\n"
     ]
    }
   ],
   "source": [
    "s=list(map(int, input('내용 입력>>').split(',')))"
   ]
  },
  {
   "cell_type": "code",
   "execution_count": 4,
   "metadata": {},
   "outputs": [
    {
     "name": "stdout",
     "output_type": "stream",
     "text": [
      "합계 30\n",
      "평균 6.0\n"
     ]
    }
   ],
   "source": [
    "print(\"합계\",sum(s))\n",
    "print(\"평균\",sum(s)/len(s))"
   ]
  }
 ],
 "metadata": {
  "kernelspec": {
   "display_name": "Python 3",
   "language": "python",
   "name": "python3"
  }
 },
 "nbformat": 4,
 "nbformat_minor": 2
}
